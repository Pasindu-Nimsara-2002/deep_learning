{
 "cells": [
  {
   "cell_type": "code",
   "execution_count": null,
   "metadata": {},
   "outputs": [],
   "source": [
    "import cv2 as cv\n",
    "import numpy as np\n",
    "import os\n",
    "\n",
    "# Input and output directories\n",
    "input_folder = \"path/to/input/folder\"\n",
    "output_folder = \"path/to/output/folder\"\n",
    "\n",
    "# Ensure output folder exists\n",
    "os.makedirs(output_folder, exist_ok=True)\n",
    "\n",
    "# Process each image in the folder\n",
    "for filename in os.listdir(input_folder):\n",
    "    if filename.endswith((\".jpg\", \".png\", \".jpeg\")):  # Add more extensions if needed\n",
    "        # Read image\n",
    "        img_path = os.path.join(input_folder, filename)\n",
    "        img_orig = cv.imread(img_path, cv.IMREAD_GRAYSCALE)  # Read as grayscale\n",
    "\n",
    "        if img_orig is None:\n",
    "            print(f\"Skipping {filename}, cannot read image.\")\n",
    "            continue\n",
    "\n",
    "        # Get image dimensions\n",
    "        h, w = img_orig.shape\n",
    "\n",
    "        # Create matrix filled with 30\n",
    "        m = np.full((h, w), 30, dtype=np.uint8)\n",
    "\n",
    "        # Subtract and apply Gaussian Blur\n",
    "        new_image = cv.subtract(img_orig, m)\n",
    "        new_image = cv.GaussianBlur(new_image, (9, 9), 0)\n",
    "\n",
    "        # Save the processed image\n",
    "        output_path = os.path.join(output_folder, filename)\n",
    "        cv.imwrite(output_path, new_image)\n",
    "        print(f\"Processed and saved: {filename}\")\n",
    "\n",
    "print(\"Processing complete!\")\n"
   ]
  }
 ],
 "metadata": {
  "kernelspec": {
   "display_name": "myenv",
   "language": "python",
   "name": "python3"
  },
  "language_info": {
   "name": "python",
   "version": "3.8.20"
  }
 },
 "nbformat": 4,
 "nbformat_minor": 2
}
