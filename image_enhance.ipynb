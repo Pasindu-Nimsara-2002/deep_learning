{
 "cells": [
  {
   "cell_type": "code",
   "execution_count": 24,
   "metadata": {},
   "outputs": [
    {
     "name": "stdout",
     "output_type": "stream",
     "text": [
      "4.11.0\n"
     ]
    }
   ],
   "source": [
    "# import rclpy\n",
    "# from rclpy.node import Node\n",
    "# from ament_index_python.packages import get_package_share_directory\n",
    "# from sensor_msgs.msg import Image\n",
    "import numpy as np\n",
    "import cv2 as cv\n",
    "from cv_bridge import CvBridge\n",
    "import matplotlib.pyplot as plt\n",
    "import os\n",
    "\n",
    "print(cv2.__version__)\n"
   ]
  },
  {
   "cell_type": "code",
   "execution_count": 25,
   "metadata": {},
   "outputs": [],
   "source": [
    "def enhance_contrast_brightness(img):\n",
    "        # Adjust the brightness and contrast \n",
    "        # Adjusts the brightness by adding 10 to each pixel value \n",
    "        brightness = 0 \n",
    "        # Adjusts the contrast by scaling the pixel values by 2.3 \n",
    "        contrast = 2.3  \n",
    "        return cv.addWeighted(img, contrast, np.zeros(img.shape, img.dtype), 0, brightness) \n",
    "    \n",
    "def sharpen(img):\n",
    "    # Create the sharpening kernel \n",
    "    kernel = np.array([[0, -1, 0], [-1, 5, -1], [0, -1, 0]]) \n",
    "    \n",
    "    # Sharpen the image \n",
    "    return cv.filter2D(img, -1, kernel)\n",
    "\n",
    "def clarity_enhancement(img):\n",
    "    kernel = cv.getStructuringElement(cv.MORPH_ELLIPSE,(5,5))\n",
    "    topHat = cv.morphologyEx(img, cv.MORPH_TOPHAT, kernel)\n",
    "    blackHat = cv.morphologyEx(img, cv.MORPH_BLACKHAT, kernel)\n",
    "    res = img + topHat - blackHat \n",
    "    return res\n",
    "\n",
    "def laplace_sharpen(img):\n",
    "    return cv.Laplacian(img, cv.CV_64F) \n",
    "\n",
    "def histogram_equalization(img):\n",
    "    eq_img = cv.equalizeHist(img)\n",
    "    \n",
    "    hist=cv.calcHist(img,[0],None,[256],[0,256])\n",
    "    hist1=cv.calcHist(eq_img,[0],None,[256],[0,256])\n",
    "    plt.subplot(121)\n",
    "    plt.title(\"Image1\")\n",
    "    plt.xlabel('bins')\n",
    "    plt.ylabel(\"No of pixels\")\n",
    "    plt.plot(hist)\n",
    "    plt.subplot(122)\n",
    "    plt.title(\"Image2\")\n",
    "    plt.xlabel('bins')\n",
    "    plt.ylabel(\"No of pixels\")\n",
    "    plt.plot(hist1)\n",
    "    plt.show()\n",
    "    \n",
    "    return eq_img\n",
    "\n",
    "def callback(msg):\n",
    "    \n",
    "    img = bridge.imgmsg_to_cv2(msg)\n",
    "    # Enhance\n",
    "    # img = enhance_contrast_brightness(img)\n",
    "    # img = sharpen(img)\n",
    "    # img = laplace_sharpen(img)\n",
    "    img = clarity_enhancement(img)\n",
    "    \n",
    "    gray= cv.cvtColor(img,cv.COLOR_BGR2GRAY)\n",
    "    # gray = histogram_equalization(gray)\n",
    "\n",
    "    sift = cv.SIFT_create()\n",
    "    kp = sift.detect(gray,None)\n",
    "\n",
    "    img=cv.drawKeypoints(gray,kp,img, flags=cv.DRAW_MATCHES_FLAGS_DRAW_RICH_KEYPOINTS)\n",
    "    \n",
    "    msg_out = bridge.cv2_to_imgmsg(cvim=img)\n",
    "    get_logger().info('Processed Image')\n",
    "    publisher.publish(msg_out)\n",
    "\n",
    "\n",
    "def test_read():\n",
    "    image_path = \"./image.png\"\n",
    "    \n",
    "    img = cv.imread(image_path)\n",
    "    cv.imshow(\"Window Name\", img)\n",
    "    get_logger().info('Test Image Read!')\n",
    "    return bridge.cv2_to_imgmsg(cvim=img)\n",
    "\n",
    "    gray= cv.cvtColor(img,cv.COLOR_BGR2GRAY)\n",
    "\n",
    "    sift = cv.SIFT_create()\n",
    "    kp = sift.detect(gray,None)\n",
    "\n",
    "    img=cv.drawKeypoints(gray,kp,img)\n",
    "    return img"
   ]
  },
  {
   "cell_type": "code",
   "execution_count": null,
   "metadata": {},
   "outputs": [],
   "source": [
    "def main(args=None):\n",
    "    thermal_filter = ThermalFilter()\n",
    "if __name__ == '__main__':\n",
    "    main()"
   ]
  },
  {
   "cell_type": "code",
   "execution_count": null,
   "metadata": {},
   "outputs": [
    {
     "ename": "error",
     "evalue": "OpenCV(4.11.0) /io/opencv/modules/highgui/src/window.cpp:1301: error: (-2:Unspecified error) The function is not implemented. Rebuild the library with Windows, GTK+ 2.x or Cocoa support. If you are on Ubuntu or Debian, install libgtk2.0-dev and pkg-config, then re-run cmake or configure script in function 'cvShowImage'\n",
     "output_type": "error",
     "traceback": [
      "\u001b[0;31m---------------------------------------------------------------------------\u001b[0m",
      "\u001b[0;31merror\u001b[0m                                     Traceback (most recent call last)",
      "Cell \u001b[0;32mIn[31], line 3\u001b[0m\n\u001b[1;32m      1\u001b[0m image_path \u001b[38;5;241m=\u001b[39m \u001b[38;5;124m\"\u001b[39m\u001b[38;5;124mimage.png\u001b[39m\u001b[38;5;124m\"\u001b[39m\n\u001b[1;32m      2\u001b[0m img \u001b[38;5;241m=\u001b[39m cv\u001b[38;5;241m.\u001b[39mimread(image_path)\n\u001b[0;32m----> 3\u001b[0m \u001b[43mcv\u001b[49m\u001b[38;5;241;43m.\u001b[39;49m\u001b[43mimshow\u001b[49m\u001b[43m(\u001b[49m\u001b[38;5;124;43m\"\u001b[39;49m\u001b[38;5;124;43mWindow Name\u001b[39;49m\u001b[38;5;124;43m\"\u001b[39;49m\u001b[43m,\u001b[49m\u001b[43m \u001b[49m\u001b[43mimg\u001b[49m\u001b[43m)\u001b[49m\n",
      "\u001b[0;31merror\u001b[0m: OpenCV(4.11.0) /io/opencv/modules/highgui/src/window.cpp:1301: error: (-2:Unspecified error) The function is not implemented. Rebuild the library with Windows, GTK+ 2.x or Cocoa support. If you are on Ubuntu or Debian, install libgtk2.0-dev and pkg-config, then re-run cmake or configure script in function 'cvShowImage'\n"
     ]
    }
   ],
   "source": [
    "image_path = \"./image.png\"\n",
    "img = cv.imread(image_path)\n",
    "cv.imshow(\"Window Name\", img)"
   ]
  }
 ],
 "metadata": {
  "kernelspec": {
   "display_name": "myenv",
   "language": "python",
   "name": "python3"
  },
  "language_info": {
   "codemirror_mode": {
    "name": "ipython",
    "version": 3
   },
   "file_extension": ".py",
   "mimetype": "text/x-python",
   "name": "python",
   "nbconvert_exporter": "python",
   "pygments_lexer": "ipython3",
   "version": "3.8.20"
  }
 },
 "nbformat": 4,
 "nbformat_minor": 2
}
